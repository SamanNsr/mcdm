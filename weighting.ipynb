{
 "cells": [
  {
   "cell_type": "code",
   "execution_count": null,
   "metadata": {},
   "outputs": [],
   "source": [
    "!pip install feloopy"
   ]
  },
  {
   "cell_type": "code",
   "execution_count": null,
   "metadata": {},
   "outputs": [],
   "source": [
    "from feloopy import *\n",
    "\n",
    "m = madm('bw','bw_model', 'pydecision')\n",
    "\n",
    "m.add_bocv([1, 3, 4, 7])\n",
    "m.add_owcv([7, 5, 5, 1])\n",
    "\n",
    "m.sol()\n",
    "\n",
    "m.report(show_tensors=False)"
   ]
  },
  {
   "cell_type": "code",
   "execution_count": null,
   "metadata": {},
   "outputs": [],
   "source": [
    "from feloopy import *\n",
    "\n",
    "m = madm('entropy','entropy_model', 'pydecision')\n",
    "\n",
    "m.add_dm([\n",
    "        [0.22, 0.28, 0.24],\n",
    "        [0.33, 0.32, 0.33],\n",
    "        [0.44, 0.40, 0.43]\n",
    "        ])\n",
    "\n",
    "m.sol(['min', 'min', 'min'])\n",
    "\n",
    "m.report(show_tensors=False)"
   ]
  },
  {
   "cell_type": "code",
   "execution_count": null,
   "metadata": {},
   "outputs": [],
   "source": [
    "!pip install pyDecision"
   ]
  },
  {
   "cell_type": "code",
   "execution_count": 4,
   "metadata": {},
   "outputs": [],
   "source": [
    "import numpy as np\n",
    "from pyDecision import algorithm"
   ]
  },
  {
   "cell_type": "code",
   "execution_count": 5,
   "metadata": {},
   "outputs": [
    {
     "name": "stdout",
     "output_type": "stream",
     "text": [
      "CR: 0.0179 (The Consistency Level is Acceptable)\n",
      "Epsilon Value: 0.011\n",
      "w(g1):  0.22342688\n",
      "w(g2):  0.45201359\n",
      "w(g3):  0.11509047\n",
      "w(g4):  0.15434505\n",
      "w(g5):  0.05512401\n"
     ]
    }
   ],
   "source": [
    "# Most Important Criteria (The Second Criterion is the Best)\n",
    "mic = np.array([2, 1, 4, 3, 8])\n",
    "\n",
    "# Least Important Criteria (The Fifth Criterion is the Worst)\n",
    "lic = np.array([4, 8, 2, 3, 1])\n",
    "\n",
    "# Call BWM Function\n",
    "weights = algorithm.bw_method(mic, lic, eps_penalty = 1, verbose = True)\n",
    "\n",
    "# Weigths\n",
    "for i in range(0, weights.shape[0]):\n",
    "  print('w(g'+str(i+1)+'): ', round(weights[i], 8))"
   ]
  },
  {
   "cell_type": "code",
   "execution_count": 9,
   "metadata": {},
   "outputs": [
    {
     "name": "stdout",
     "output_type": "stream",
     "text": [
      "w(g1):  0.066\n",
      "w(g2):  0.378\n",
      "w(g3):  0.287\n",
      "w(g4):  0.269\n"
     ]
    }
   ],
   "source": [
    "# Entropy\n",
    "\n",
    "# Load Criterion Type: 'max' or 'min'\n",
    "criterion_type = ['min', 'max', 'max', 'max']\n",
    "\n",
    "# Dataset\n",
    "dataset = np.array([\n",
    "                # g1   g2   g3   g4\n",
    "                [250,  16,  12,  5],\n",
    "                [200,  16,  8 ,  3],\n",
    "                [300,  32,  16,  4],\n",
    "                [275,  32,  8 ,  4],\n",
    "                [225,  16,  16,  2]\n",
    "                ])\n",
    "\n",
    "# Call Entropy Function\n",
    "weights = algorithm.entropy_method(dataset, criterion_type)\n",
    "\n",
    "# Weigths\n",
    "for i in range(0, weights.shape[0]):\n",
    "  print('w(g'+str(i+1)+'): ', round(weights[i], 3))"
   ]
  },
  {
   "cell_type": "code",
   "execution_count": null,
   "metadata": {},
   "outputs": [],
   "source": []
  }
 ],
 "metadata": {
  "kernelspec": {
   "display_name": "ml",
   "language": "python",
   "name": "python3"
  },
  "language_info": {
   "codemirror_mode": {
    "name": "ipython",
    "version": 3
   },
   "file_extension": ".py",
   "mimetype": "text/x-python",
   "name": "python",
   "nbconvert_exporter": "python",
   "pygments_lexer": "ipython3",
   "version": "3.10.9"
  }
 },
 "nbformat": 4,
 "nbformat_minor": 2
}
