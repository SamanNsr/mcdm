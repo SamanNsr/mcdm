{
 "cells": [
  {
   "cell_type": "code",
   "execution_count": 28,
   "metadata": {},
   "outputs": [],
   "source": [
    "import numpy as np\n",
    "\n",
    "def vikor_method(matrix, weights, criteria_types, strategy_coefficient=0.5):\n",
    "    matrix = np.array(matrix)\n",
    "    weights = np.array(weights)\n",
    "    \n",
    "    # # Normalize the matrix\n",
    "    # normalized_matrix = matrix / np.sqrt(np.sum(matrix**2, axis=0))\n",
    "    \n",
    "    # Calculate the worst and best values for each criterion\n",
    "    worst = np.zeros(matrix.shape[1])\n",
    "    best = np.zeros(matrix.shape[1])\n",
    "    for i, crit_type in enumerate(criteria_types):\n",
    "        if crit_type == 'min':\n",
    "            worst[i] = np.min(matrix[:, i])\n",
    "            best[i] = np.max(matrix[:, i])\n",
    "        elif crit_type == 'max':\n",
    "            worst[i] = np.max(matrix[:, i])\n",
    "            best[i] = np.min(matrix[:, i])\n",
    "    \n",
    "    # Calculate the S and R values for each alternative\n",
    "    S = np.zeros(matrix.shape[0])\n",
    "    R = np.zeros(matrix.shape[0])\n",
    "    for i in range(matrix.shape[0]):\n",
    "        S[i] = np.sum(weights * (matrix[i] - worst) / (best - worst))\n",
    "        R[i] = np.max(weights * (matrix[i] - worst) / (best - worst))\n",
    "    \n",
    "    # Calculate the values of 'Q' and 'Q_sort'\n",
    "    Q = np.zeros(matrix.shape[0])\n",
    "    for i in range(matrix.shape[0]):\n",
    "        Q[i] = (strategy_coefficient * (S[i] - S.min()) / (S.max() - S.min())) + ((1 - strategy_coefficient) * (R[i] - R.min()) / (R.max() - R.min()))\n",
    "    \n",
    "    Q_sort = np.argsort(Q)\n",
    "    \n",
    "    R_sort = np.argsort(R)\n",
    "    S_sort = np.argsort(S)\n",
    "    # Return the sorted Q values and ranks\n",
    "    return Q, Q_sort + 1, R_sort + 1, S_sort + 1\n"
   ]
  },
  {
   "cell_type": "code",
   "execution_count": 29,
   "metadata": {},
   "outputs": [
    {
     "name": "stdout",
     "output_type": "stream",
     "text": [
      "Q values: [1.         0.12121212 0.         0.69393939]\n",
      "Q Ranks: [3 2 4 1]\n",
      "R Ranks: [2 3 4 1]\n",
      "S Ranks: [3 2 4 1]\n"
     ]
    }
   ],
   "source": [
    "# Example data\n",
    "matrix = np.array([[5, 8, 4],\n",
    "                   [7, 6, 8],\n",
    "                   [8, 8, 6],\n",
    "                   [7, 4, 6]])\n",
    "weights = np.array([0.4, 0.3, 0.3])\n",
    "criteria_types = ['max', 'max', 'max']  # 'max' for maximization criteria and 'min' for minimization criteria\n",
    "\n",
    "Q_values, q_ranks, r_ranks, s_ranks = vikor_method(matrix, weights, criteria_types)\n",
    "print(\"Q values:\", Q_values)\n",
    "print(\"Q Ranks:\", q_ranks)\n",
    "print(\"R Ranks:\", r_ranks)\n",
    "print(\"S Ranks:\", s_ranks)"
   ]
  },
  {
   "cell_type": "code",
   "execution_count": null,
   "metadata": {},
   "outputs": [],
   "source": [
    "!pip install feloopy"
   ]
  },
  {
   "cell_type": "code",
   "execution_count": null,
   "metadata": {},
   "outputs": [],
   "source": [
    "from feloopy import *\n",
    "\n",
    "m = madm('vikor','vikor_model', 'pydecision')\n",
    "\n",
    "m.add_dm([\n",
    "            [250, 16, 12, 5],   #a1\n",
    "            [200, 16, 8 , 3],   #a2\n",
    "            [300, 32, 16, 4],   #a3\n",
    "            [275, 32, 8 , 4],   #a4\n",
    "            [225, 16, 16, 2]    #a5\n",
    "            ])\n",
    "\n",
    "m.add_wv([0.35, 0.30, 0.20, 0.15])\n",
    "\n",
    "m.sol(['min', 'max', 'max', 'max'],show_graph=False)\n",
    "\n",
    "m.report(show_tensors=False)"
   ]
  },
  {
   "cell_type": "code",
   "execution_count": null,
   "metadata": {},
   "outputs": [],
   "source": [
    "!pip install pyDecision"
   ]
  },
  {
   "cell_type": "code",
   "execution_count": 30,
   "metadata": {},
   "outputs": [],
   "source": [
    "import numpy as np\n",
    "from pyDecision import algorithm"
   ]
  },
  {
   "cell_type": "code",
   "execution_count": 32,
   "metadata": {},
   "outputs": [
    {
     "name": "stdout",
     "output_type": "stream",
     "text": [
      "a1: 3.0\n",
      "a2: 2.0\n",
      "Q values: [[3.         0.        ]\n",
      " [2.         0.12121212]\n",
      " [4.         0.69393939]\n",
      " [1.         1.        ]]\n"
     ]
    }
   ],
   "source": [
    "# Call VIKOR\n",
    "s, r, q, c_solution = algorithm.vikor_method(matrix, weights, criteria_types, strategy_coefficient = 0.5, graph = False)\n",
    "print(\"Q values:\", q)"
   ]
  },
  {
   "cell_type": "code",
   "execution_count": 18,
   "metadata": {},
   "outputs": [
    {
     "data": {
      "image/png": "[encoded data removed]",
      "text/plain": [
       "<Figure size 640x480 with 1 Axes>"
      ]
     },
     "metadata": {},
     "output_type": "display_data"
    }
   ],
   "source": [
    "# Graph Solutions\n",
    "algorithm.ranking(s)"
   ]
  },
  {
   "cell_type": "code",
   "execution_count": 19,
   "metadata": {},
   "outputs": [
    {
     "data": {
      "image/png": "[encoded data removed]",
      "text/plain": [
       "<Figure size 640x480 with 1 Axes>"
      ]
     },
     "metadata": {},
     "output_type": "display_data"
    }
   ],
   "source": [
    "# Graph Solutions\n",
    "algorithm.ranking(r)"
   ]
  },
  {
   "cell_type": "code",
   "execution_count": 20,
   "metadata": {},
   "outputs": [
    {
     "data": {
      "image/png": "[encoded data removed]",
      "text/plain": [
       "<Figure size 640x480 with 1 Axes>"
      ]
     },
     "metadata": {},
     "output_type": "display_data"
    }
   ],
   "source": [
    "# Graph Solutions\n",
    "algorithm.ranking(q)"
   ]
  }
 ],
 "metadata": {
  "kernelspec": {
   "display_name": "ml",
   "language": "python",
   "name": "python3"
  },
  "language_info": {
   "codemirror_mode": {
    "name": "ipython",
    "version": 3
   },
   "file_extension": ".py",
   "mimetype": "text/x-python",
   "name": "python",
   "nbconvert_exporter": "python",
   "pygments_lexer": "ipython3",
   "version": "3.10.9"
  }
 },
 "nbformat": 4,
 "nbformat_minor": 2
}
