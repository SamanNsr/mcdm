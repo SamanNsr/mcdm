{
 "cells": [
  {
   "cell_type": "code",
   "execution_count": 11,
   "metadata": {},
   "outputs": [],
   "source": [
    "import numpy as np\n",
    "\n",
    "# Weights\n",
    "weights = [0.297, 0.025, 0.035, 0.076, 0.154, 0.053, 0.104, 0.017, 0.025, 0.214]\n",
    "\n",
    "# Load Criterion Type: 'max' or 'min'\n",
    "criterion_type = ['max', 'max', 'max', 'max', 'max', 'max', 'max', 'max', 'min', 'min']\n",
    "\n",
    "# Dataset\n",
    "dataset = np.array([\n",
    "                    [3.5, 6, 1256, 4, 16, 3, 17.3, 8, 2.82, 4100],   #a1\n",
    "                    [3.1, 4, 1000, 2, 8,  1, 15.6, 5, 3.08, 3800],   #a2\n",
    "                    [3.6, 6, 2000, 4, 16, 3, 17.3, 5, 2.9,  4000],   #a3\n",
    "                    [3,   4, 1000, 2, 8,  2, 17.3, 5, 2.6,  3500],   #a4\n",
    "                    [3.3, 6, 1008, 4, 12, 3, 15.6, 8, 2.3,  3800],   #a5\n",
    "                    [3.6, 6, 1000, 2, 16, 3, 15.6, 5, 2.8,  4000],   #a6\n",
    "                    [3.5, 6, 1256, 2, 16, 1, 15.6, 6, 2.9,  4000]    #a7\n",
    "                   ])"
   ]
  },
  {
   "cell_type": "code",
   "execution_count": 15,
   "metadata": {},
   "outputs": [
    {
     "name": "stdout",
     "output_type": "stream",
     "text": [
      "Ranking: [[1.         0.22584754]\n",
      " [2.         0.13499372]\n",
      " [3.         0.23562927]\n",
      " [4.         0.15180478]\n",
      " [5.         0.20341201]\n",
      " [6.         0.20241021]\n",
      " [7.         0.18611914]]\n"
     ]
    }
   ],
   "source": [
    "def moora_mcdm(dataset, weights, criterion_type):\n",
    "    X = np.copy(dataset) / 1.0\n",
    "    best = np.zeros(X.shape[1])\n",
    "    \n",
    "    for i in range(0, X.shape[1]):\n",
    "        if criterion_type[i] == 'max':\n",
    "            best[i] = np.max(X[:, i])\n",
    "        else:\n",
    "            best[i] = np.min(X[:, i])\n",
    "    \n",
    "    root = (np.sum(X**2, axis=0))**(1/2)\n",
    "    X = X / root\n",
    "    X = X * weights\n",
    "    \n",
    "    id1 = [i for i, j in enumerate(criterion_type) if j == 'max']\n",
    "    id2 = [i for i, j in enumerate(criterion_type) if j == 'min']\n",
    "    \n",
    "    s_p = np.zeros(X.shape[0])\n",
    "    s_m = np.zeros(X.shape[0])\n",
    "    Y = np.zeros(X.shape[0])\n",
    "    \n",
    "    if len(id1) > 0:\n",
    "        s_p = np.sum(X[:, id1], axis=1)\n",
    "    \n",
    "    if len(id2) > 0:\n",
    "        s_m = np.sum(X[:, id2], axis=1)\n",
    "    \n",
    "    Y = s_p - s_m\n",
    "    \n",
    "    flow = np.copy(Y)\n",
    "    flow = np.reshape(flow, (Y.shape[0], 1))\n",
    "    flow = np.insert(flow, 0, list(range(1, Y.shape[0]+1)), axis=1)\n",
    "    \n",
    "    return flow\n",
    "\n",
    "ranking = moora_mcdm(dataset, weights, criterion_type)\n",
    "print(\"Ranking:\", ranking)\n"
   ]
  },
  {
   "cell_type": "code",
   "execution_count": 3,
   "metadata": {},
   "outputs": [],
   "source": [
    "from pyDecision.algorithm import moora_method"
   ]
  },
  {
   "cell_type": "code",
   "execution_count": 14,
   "metadata": {},
   "outputs": [
    {
     "name": "stdout",
     "output_type": "stream",
     "text": [
      "a1: 0.226\n",
      "a2: 0.135\n",
      "a3: 0.236\n",
      "a4: 0.152\n",
      "a5: 0.203\n",
      "a6: 0.202\n",
      "a7: 0.186\n"
     ]
    },
    {
     "data": {
      "image/png": "[encoded data removed]",
      "text/plain": [
       "<Figure size 640x480 with 1 Axes>"
      ]
     },
     "metadata": {},
     "output_type": "display_data"
    }
   ],
   "source": [
    "# Call MOORA Function\n",
    "rank = moora_method(dataset, weights, criterion_type, graph = True, verbose = True)"
   ]
  },
  {
   "cell_type": "code",
   "execution_count": 16,
   "metadata": {},
   "outputs": [
    {
     "data": {
      "text/plain": [
       "array([3.        , 0.23562927])"
      ]
     },
     "execution_count": 16,
     "metadata": {},
     "output_type": "execute_result"
    }
   ],
   "source": [
    "rank[0]"
   ]
  },
  {
   "cell_type": "code",
   "execution_count": null,
   "metadata": {},
   "outputs": [],
   "source": []
  }
 ],
 "metadata": {
  "kernelspec": {
   "display_name": "ml",
   "language": "python",
   "name": "python3"
  },
  "language_info": {
   "codemirror_mode": {
    "name": "ipython",
    "version": 3
   },
   "file_extension": ".py",
   "mimetype": "text/x-python",
   "name": "python",
   "nbconvert_exporter": "python",
   "pygments_lexer": "ipython3",
   "version": "3.10.9"
  }
 },
 "nbformat": 4,
 "nbformat_minor": 2
}
