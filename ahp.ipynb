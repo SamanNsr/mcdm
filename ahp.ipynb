{
 "cells": [
  {
   "cell_type": "code",
   "execution_count": 1,
   "metadata": {},
   "outputs": [
    {
     "name": "stdout",
     "output_type": "stream",
     "text": [
      "Weights: [0.42297619 0.08321429 0.2102381  0.28357143]\n",
      "[[0.12261905 0.08694791 0.5934323  0.2648113 ]\n",
      " [0.3202381  0.27371757 0.34116059 0.65554501]\n",
      " [0.55714286 0.63933452 0.06540711 0.07964369]]\n",
      "Final Decision: Car 2\n",
      "Weighted Sum: [0.25895524 0.41584909 0.32519567]\n"
     ]
    }
   ],
   "source": [
    "import numpy as np\n",
    "\n",
    "# Step 1: Define decision criteria and alternatives\n",
    "criteria = ['Cost', 'Consumption', 'Comfortability', 'Model']\n",
    "alternatives = ['Car 1', 'Car 2', 'Car 3']\n",
    "\n",
    "# Step 2: Create pairwise comparison matrix\n",
    "criteria_matrix = np.array([[1, 3, 3, 2],\n",
    "                            [1/3, 1, 1/4, 1/4],\n",
    "                            [1/2, 4, 1, 1/2],\n",
    "                            [1/2, 4, 2, 1]]) \n",
    "\n",
    "cost_matrix = np.array([[1, 1/3, 1/4],\n",
    "                        [3, 1, 1/2],\n",
    "                        [4, 2, 1]])\n",
    "\n",
    "consumption_matrix = np.array([[1, 1/4, 1/6],\n",
    "                               [4, 1, 1/3],\n",
    "                               [6, 3, 1]])\n",
    "\n",
    "comfortability_matrix = np.array([[1, 2, 8],\n",
    "                                  [1/2, 1, 6],\n",
    "                                  [1/8, 1/6, 1]])\n",
    "\n",
    "model_matrix = np.array([[1, 1/3, 4],\n",
    "                         [3, 1, 7],\n",
    "                         [1/4, 1/7, 1]])\n",
    "\n",
    "# Step 3: Determining the weight of each criterion and the weight of each alternative relative to each criterion\n",
    "# Step 3.1: Create pairwise comparison matrix\n",
    "criteria_matrix = np.divide(criteria_matrix, np.sum(criteria_matrix, axis=0))\n",
    "cost_matrix = np.divide(cost_matrix, np.sum(cost_matrix, axis=0))\n",
    "consumption_matrix = np.divide(consumption_matrix, np.sum(consumption_matrix, axis=0))\n",
    "comfortability_matrix = np.divide(comfortability_matrix, np.sum(comfortability_matrix, axis=0))\n",
    "model_matrix = np.divide(model_matrix, np.sum(model_matrix, axis=0))\n",
    "\n",
    "\n",
    "# Step 3.2: Calculate priority vector for each criterion and alternative\n",
    "weights = np.mean(criteria_matrix, axis=1)\n",
    "print(\"Weights:\", weights)\n",
    "\n",
    "cost_priority = np.mean(cost_matrix, axis=1)\n",
    "consumption_priority = np.mean(consumption_matrix, axis=1)\n",
    "comfortability_priority = np.mean(comfortability_matrix, axis=1)\n",
    "model_priority = np.mean(model_matrix, axis=1)\n",
    "\n",
    "priority_matrix = np.array([cost_priority, consumption_priority, comfortability_priority, model_priority]).T\n",
    "print(priority_matrix)\n",
    "\n",
    "\n",
    "# Step 4: Calculate weight/ed sum of each alternative based on priority vectors\n",
    "weighted_sum = np.dot(priority_matrix, weights)\n",
    "\n",
    "# Step 5: Select alternative with highest weighted sum as final decision\n",
    "final_decision_index = np.argmax(weighted_sum)\n",
    "final_decision = alternatives[final_decision_index]\n",
    "\n",
    "print(\"Final Decision:\", final_decision)\n",
    "print(\"Weighted Sum:\", weighted_sum)"
   ]
  },
  {
   "cell_type": "code",
   "execution_count": null,
   "metadata": {},
   "outputs": [],
   "source": [
    "!pip install feloopy"
   ]
  },
  {
   "cell_type": "code",
   "execution_count": null,
   "metadata": {},
   "outputs": [],
   "source": [
    "from feloopy import *\n",
    "\n",
    "m = madm('ahp','ahp_model', 'pydecision')\n",
    "\n",
    "m.add_cpcm([\n",
    "  [1  ,   1/3,   1/5,   1  ,   1/4,   1/2,   3  ],   \n",
    "  [3  ,   1  ,   1/2,   2  ,   1/3,   3  ,   3  ],  \n",
    "  [5  ,   2  ,   1  ,   4  ,   5  ,   6  ,   5  ],   \n",
    "  [1  ,   1/2,   1/4,   1  ,   1/4,   1  ,   2  ],   \n",
    "  [4  ,   3  ,   1/5,   4  ,   1  ,   3  ,   2  ],   \n",
    "  [2  ,   1/3,   1/6,   1  ,   1/3,   1  ,   1/3],   \n",
    "  [1/3,   1/3,   1/5,   1/2,   1/2,   3  ,   1  ]   \n",
    "])\n",
    "\n",
    "m.sol()\n",
    "\n",
    "m.report(show_tensors=True)"
   ]
  },
  {
   "cell_type": "code",
   "execution_count": 25,
   "metadata": {},
   "outputs": [],
   "source": [
    "!pip install pyDecision"
   ]
  },
  {
   "cell_type": "code",
   "execution_count": 26,
   "metadata": {},
   "outputs": [],
   "source": [
    "from pyDecision import algorithm\n",
    "weight_derivation = 'mean' # 'mean'; 'geometric' or 'max_eigen'\n",
    "weights, rc = algorithm.ahp_method(criteria_matrix, wd = weight_derivation)"
   ]
  },
  {
   "cell_type": "code",
   "execution_count": 27,
   "metadata": {},
   "outputs": [
    {
     "name": "stdout",
     "output_type": "stream",
     "text": [
      "w(c1):  0.423\n",
      "w(c2):  0.083\n",
      "w(c3):  0.21\n",
      "w(c4):  0.284\n"
     ]
    }
   ],
   "source": [
    "# Weigths\n",
    "for i in range(0, weights.shape[0]):\n",
    "  print('w(c'+str(i+1)+'): ', round(weights[i], 3))"
   ]
  },
  {
   "cell_type": "code",
   "execution_count": null,
   "metadata": {},
   "outputs": [],
   "source": []
  }
 ],
 "metadata": {
  "kernelspec": {
   "display_name": "ml",
   "language": "python",
   "name": "python3"
  },
  "language_info": {
   "codemirror_mode": {
    "name": "ipython",
    "version": 3
   },
   "file_extension": ".py",
   "mimetype": "text/x-python",
   "name": "python",
   "nbconvert_exporter": "python",
   "pygments_lexer": "ipython3",
   "version": "3.10.9"
  }
 },
 "nbformat": 4,
 "nbformat_minor": 2
}
