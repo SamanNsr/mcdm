{
 "cells": [
  {
   "cell_type": "code",
   "execution_count": 3,
   "metadata": {
    "ExecuteTime": {
     "end_time": "2023-10-07T10:00:59.112260Z",
     "start_time": "2023-10-07T09:58:21.792170Z"
    },
    "collapsed": true
   },
   "outputs": [],
   "source": [
    "import numpy as np\n",
    "import pandas as pd\n",
    "from scipy.stats import rankdata"
   ]
  },
  {
   "cell_type": "code",
   "execution_count": 5,
   "metadata": {
    "ExecuteTime": {
     "end_time": "2023-10-07T10:01:15.675085Z",
     "start_time": "2023-10-07T10:01:15.660304Z"
    },
    "collapsed": false
   },
   "outputs": [
    {
     "data": {
      "text/html": [
       "<div>\n",
       "<style scoped>\n",
       "    .dataframe tbody tr th:only-of-type {\n",
       "        vertical-align: middle;\n",
       "    }\n",
       "\n",
       "    .dataframe tbody tr th {\n",
       "        vertical-align: top;\n",
       "    }\n",
       "\n",
       "    .dataframe thead th {\n",
       "        text-align: right;\n",
       "    }\n",
       "</style>\n",
       "<table border=\"1\" class=\"dataframe\">\n",
       "  <thead>\n",
       "    <tr style=\"text-align: right;\">\n",
       "      <th></th>\n",
       "      <th>GRE</th>\n",
       "      <th>GPA</th>\n",
       "      <th>College ranking</th>\n",
       "      <th>Recommendation Rating</th>\n",
       "      <th>Interview Rating</th>\n",
       "    </tr>\n",
       "  </thead>\n",
       "  <tbody>\n",
       "    <tr>\n",
       "      <th>Alfred</th>\n",
       "      <td>690.0</td>\n",
       "      <td>3.1</td>\n",
       "      <td>9.0</td>\n",
       "      <td>7.0</td>\n",
       "      <td>4.0</td>\n",
       "    </tr>\n",
       "    <tr>\n",
       "      <th>Beverly</th>\n",
       "      <td>590.0</td>\n",
       "      <td>3.9</td>\n",
       "      <td>7.0</td>\n",
       "      <td>6.0</td>\n",
       "      <td>10.0</td>\n",
       "    </tr>\n",
       "    <tr>\n",
       "      <th>Calvin</th>\n",
       "      <td>600.0</td>\n",
       "      <td>3.6</td>\n",
       "      <td>8.0</td>\n",
       "      <td>8.0</td>\n",
       "      <td>7.0</td>\n",
       "    </tr>\n",
       "    <tr>\n",
       "      <th>Diane</th>\n",
       "      <td>620.0</td>\n",
       "      <td>3.8</td>\n",
       "      <td>7.0</td>\n",
       "      <td>10.0</td>\n",
       "      <td>6.0</td>\n",
       "    </tr>\n",
       "    <tr>\n",
       "      <th>Edward</th>\n",
       "      <td>700.0</td>\n",
       "      <td>2.8</td>\n",
       "      <td>10.0</td>\n",
       "      <td>4.0</td>\n",
       "      <td>6.0</td>\n",
       "    </tr>\n",
       "    <tr>\n",
       "      <th>Fran</th>\n",
       "      <td>650.0</td>\n",
       "      <td>4.0</td>\n",
       "      <td>6.0</td>\n",
       "      <td>9.0</td>\n",
       "      <td>8.0</td>\n",
       "    </tr>\n",
       "  </tbody>\n",
       "</table>\n",
       "</div>"
      ],
      "text/plain": [
       "           GRE  GPA  College ranking  Recommendation Rating  Interview Rating\n",
       "Alfred   690.0  3.1              9.0                    7.0               4.0\n",
       "Beverly  590.0  3.9              7.0                    6.0              10.0\n",
       "Calvin   600.0  3.6              8.0                    8.0               7.0\n",
       "Diane    620.0  3.8              7.0                   10.0               6.0\n",
       "Edward   700.0  2.8             10.0                    4.0               6.0\n",
       "Fran     650.0  4.0              6.0                    9.0               8.0"
      ]
     },
     "execution_count": 5,
     "metadata": {},
     "output_type": "execute_result"
    }
   ],
   "source": [
    "# The given data encoded into vectors and matrices\n",
    "attributes = np.array([\"GRE\", \"GPA\", \"College ranking\", \"Recommendation Rating\", \"Interview Rating\"])\n",
    "candidates = np.array([\"Alfred\", \"Beverly\", \"Calvin\", \"Diane\", \"Edward\", \"Fran\"])\n",
    "raw_data = np.array([\n",
    "    [690, 3.1,  9,  7,  4],\n",
    "    [590, 3.9,  7,  6, 10],\n",
    "    [600, 3.6,  8,  8,  7],\n",
    "    [620, 3.8,  7, 10,  6],\n",
    "    [700, 2.8, 10,  4,  6],\n",
    "    [650, 4.0,  6,  9,  8],\n",
    "])\n",
    "\n",
    "weights = np.array([0.3, 0.2, 0.2, 0.15, 0.15])\n",
    "\n",
    "# The indices of the attributes (zero-based) that are considered beneficial.\n",
    "# Those indices not mentioned are assumed to be cost attributes.\n",
    "# benefit_attributes = set([0, 1, 2, 3, 4])\n",
    "criteria_types = ['max', 'max', 'max', 'max', 'max']\n",
    "\n",
    "# Display the raw data we have\n",
    "pd.DataFrame(data=raw_data, index=candidates, columns=attributes)"
   ]
  },
  {
   "cell_type": "markdown",
   "metadata": {
    "collapsed": false
   },
   "source": [
    "## Step 1 - Normalizing the ratings\n",
    "\n",
    "$$r_{ij}=\\frac{x_{ij}}{\\sqrt{\\sum_{i = 1}^{m} x_{ij}^2}}$$\n",
    "\n",
    "where $i = 1, 2, \\ldots, m$ and $j = 1, 2, \\ldots, n$."
   ]
  },
  {
   "cell_type": "code",
   "execution_count": 6,
   "metadata": {
    "ExecuteTime": {
     "end_time": "2023-10-07T10:04:01.743923Z",
     "start_time": "2023-10-07T10:04:01.738198Z"
    },
    "collapsed": false
   },
   "outputs": [
    {
     "data": {
      "text/html": [
       "<div>\n",
       "<style scoped>\n",
       "    .dataframe tbody tr th:only-of-type {\n",
       "        vertical-align: middle;\n",
       "    }\n",
       "\n",
       "    .dataframe tbody tr th {\n",
       "        vertical-align: top;\n",
       "    }\n",
       "\n",
       "    .dataframe thead th {\n",
       "        text-align: right;\n",
       "    }\n",
       "</style>\n",
       "<table border=\"1\" class=\"dataframe\">\n",
       "  <thead>\n",
       "    <tr style=\"text-align: right;\">\n",
       "      <th></th>\n",
       "      <th>X_0</th>\n",
       "      <th>X_1</th>\n",
       "      <th>X_2</th>\n",
       "      <th>X_3</th>\n",
       "      <th>X_4</th>\n",
       "    </tr>\n",
       "  </thead>\n",
       "  <tbody>\n",
       "    <tr>\n",
       "      <th>Alfred</th>\n",
       "      <td>0.438053</td>\n",
       "      <td>0.355454</td>\n",
       "      <td>0.462299</td>\n",
       "      <td>0.376322</td>\n",
       "      <td>0.230556</td>\n",
       "    </tr>\n",
       "    <tr>\n",
       "      <th>Beverly</th>\n",
       "      <td>0.374567</td>\n",
       "      <td>0.447184</td>\n",
       "      <td>0.359566</td>\n",
       "      <td>0.322562</td>\n",
       "      <td>0.576390</td>\n",
       "    </tr>\n",
       "    <tr>\n",
       "      <th>Calvin</th>\n",
       "      <td>0.380916</td>\n",
       "      <td>0.412785</td>\n",
       "      <td>0.410932</td>\n",
       "      <td>0.430083</td>\n",
       "      <td>0.403473</td>\n",
       "    </tr>\n",
       "    <tr>\n",
       "      <th>Diane</th>\n",
       "      <td>0.393613</td>\n",
       "      <td>0.435718</td>\n",
       "      <td>0.359566</td>\n",
       "      <td>0.537603</td>\n",
       "      <td>0.345834</td>\n",
       "    </tr>\n",
       "    <tr>\n",
       "      <th>Edward</th>\n",
       "      <td>0.444402</td>\n",
       "      <td>0.321055</td>\n",
       "      <td>0.513665</td>\n",
       "      <td>0.215041</td>\n",
       "      <td>0.345834</td>\n",
       "    </tr>\n",
       "    <tr>\n",
       "      <th>Fran</th>\n",
       "      <td>0.412659</td>\n",
       "      <td>0.458650</td>\n",
       "      <td>0.308199</td>\n",
       "      <td>0.483843</td>\n",
       "      <td>0.461112</td>\n",
       "    </tr>\n",
       "  </tbody>\n",
       "</table>\n",
       "</div>"
      ],
      "text/plain": [
       "              X_0       X_1       X_2       X_3       X_4\n",
       "Alfred   0.438053  0.355454  0.462299  0.376322  0.230556\n",
       "Beverly  0.374567  0.447184  0.359566  0.322562  0.576390\n",
       "Calvin   0.380916  0.412785  0.410932  0.430083  0.403473\n",
       "Diane    0.393613  0.435718  0.359566  0.537603  0.345834\n",
       "Edward   0.444402  0.321055  0.513665  0.215041  0.345834\n",
       "Fran     0.412659  0.458650  0.308199  0.483843  0.461112"
      ]
     },
     "execution_count": 6,
     "metadata": {},
     "output_type": "execute_result"
    }
   ],
   "source": [
    "m = len(raw_data)\n",
    "n = len(attributes)\n",
    "divisors = np.empty(n)\n",
    "for j in range(n):\n",
    "    column = raw_data[:,j]\n",
    "    divisors[j] = np.sqrt(column @ column)\n",
    "\n",
    "raw_data /= divisors\n",
    "\n",
    "columns = [\"X_%d\" % j for j in range(n)]\n",
    "pd.DataFrame(data=raw_data, index=candidates, columns=columns)"
   ]
  },
  {
   "cell_type": "markdown",
   "metadata": {
    "collapsed": false
   },
   "source": [
    "## Step 2 - Calculating the Weighted Normalized Ratings\n",
    "\n",
    "$$v_{ij} = w_j r_{ij}$$\n",
    "\n",
    "where $i = 1, 2, \\ldots, m$ and $j = 1, 2, \\ldots, n$."
   ]
  },
  {
   "cell_type": "code",
   "execution_count": 7,
   "metadata": {
    "ExecuteTime": {
     "end_time": "2023-10-07T10:04:50.845855Z",
     "start_time": "2023-10-07T10:04:50.837339Z"
    },
    "collapsed": false
   },
   "outputs": [
    {
     "data": {
      "text/html": [
       "<div>\n",
       "<style scoped>\n",
       "    .dataframe tbody tr th:only-of-type {\n",
       "        vertical-align: middle;\n",
       "    }\n",
       "\n",
       "    .dataframe tbody tr th {\n",
       "        vertical-align: top;\n",
       "    }\n",
       "\n",
       "    .dataframe thead th {\n",
       "        text-align: right;\n",
       "    }\n",
       "</style>\n",
       "<table border=\"1\" class=\"dataframe\">\n",
       "  <thead>\n",
       "    <tr style=\"text-align: right;\">\n",
       "      <th></th>\n",
       "      <th>X_0</th>\n",
       "      <th>X_1</th>\n",
       "      <th>X_2</th>\n",
       "      <th>X_3</th>\n",
       "      <th>X_4</th>\n",
       "    </tr>\n",
       "  </thead>\n",
       "  <tbody>\n",
       "    <tr>\n",
       "      <th>Alfred</th>\n",
       "      <td>0.131416</td>\n",
       "      <td>0.071091</td>\n",
       "      <td>0.092460</td>\n",
       "      <td>0.056448</td>\n",
       "      <td>0.034583</td>\n",
       "    </tr>\n",
       "    <tr>\n",
       "      <th>Beverly</th>\n",
       "      <td>0.112370</td>\n",
       "      <td>0.089437</td>\n",
       "      <td>0.071913</td>\n",
       "      <td>0.048384</td>\n",
       "      <td>0.086459</td>\n",
       "    </tr>\n",
       "    <tr>\n",
       "      <th>Calvin</th>\n",
       "      <td>0.114275</td>\n",
       "      <td>0.082557</td>\n",
       "      <td>0.082186</td>\n",
       "      <td>0.064512</td>\n",
       "      <td>0.060521</td>\n",
       "    </tr>\n",
       "    <tr>\n",
       "      <th>Diane</th>\n",
       "      <td>0.118084</td>\n",
       "      <td>0.087144</td>\n",
       "      <td>0.071913</td>\n",
       "      <td>0.080640</td>\n",
       "      <td>0.051875</td>\n",
       "    </tr>\n",
       "    <tr>\n",
       "      <th>Edward</th>\n",
       "      <td>0.133321</td>\n",
       "      <td>0.064211</td>\n",
       "      <td>0.102733</td>\n",
       "      <td>0.032256</td>\n",
       "      <td>0.051875</td>\n",
       "    </tr>\n",
       "    <tr>\n",
       "      <th>Fran</th>\n",
       "      <td>0.123798</td>\n",
       "      <td>0.091730</td>\n",
       "      <td>0.061640</td>\n",
       "      <td>0.072576</td>\n",
       "      <td>0.069167</td>\n",
       "    </tr>\n",
       "  </tbody>\n",
       "</table>\n",
       "</div>"
      ],
      "text/plain": [
       "              X_0       X_1       X_2       X_3       X_4\n",
       "Alfred   0.131416  0.071091  0.092460  0.056448  0.034583\n",
       "Beverly  0.112370  0.089437  0.071913  0.048384  0.086459\n",
       "Calvin   0.114275  0.082557  0.082186  0.064512  0.060521\n",
       "Diane    0.118084  0.087144  0.071913  0.080640  0.051875\n",
       "Edward   0.133321  0.064211  0.102733  0.032256  0.051875\n",
       "Fran     0.123798  0.091730  0.061640  0.072576  0.069167"
      ]
     },
     "execution_count": 7,
     "metadata": {},
     "output_type": "execute_result"
    }
   ],
   "source": [
    "raw_data *= weights\n",
    "pd.DataFrame(data=raw_data, index=candidates, columns=columns)"
   ]
  },
  {
   "cell_type": "markdown",
   "metadata": {
    "collapsed": false
   },
   "source": [
    "## Step 3 - Identifying PIS ($A^*$) and NIS ($A^-$)\n",
    "\n",
    "$$\n",
    "\\begin{align}\n",
    "A^* &= \\left\\{v_1^*, v_2^*, \\ldots, v_n^*\\right\\} \\\\\n",
    "A^- &= \\left\\{v_1^-, v_2^-, \\ldots, v_n^-\\right\\} \\\\\n",
    "\\end{align}\n",
    "$$\n",
    "\n",
    "And we define\n",
    "\n",
    "$$\n",
    "\\begin{align}\n",
    "v_j^* &=\n",
    "\\begin{cases}\n",
    "\\max{(v_{ij})}, \\text{ if} j \\in J_1 \\\\\n",
    "\\min{(v_{ij})}, \\text{ if} j \\in J_2\n",
    "\\end{cases}\n",
    "\\\\\n",
    "v_j^- &=\n",
    "\\begin{cases}\n",
    "\\min{(v_{ij})}, \\text{ if} j \\in J_1 \\\\\n",
    "\\max{(v_{ij})}, \\text{ if} j \\in J_2\n",
    "\\end{cases}\n",
    "\\\\\n",
    "\\end{align}\n",
    "$$\n",
    "\n",
    "where $i = 1, 2, \\ldots, m$ and $j = 1, 2, \\ldots, n$."
   ]
  },
  {
   "cell_type": "code",
   "execution_count": 8,
   "metadata": {
    "ExecuteTime": {
     "end_time": "2023-10-07T10:05:55.698963Z",
     "start_time": "2023-10-07T10:05:55.694054Z"
    },
    "collapsed": false
   },
   "outputs": [
    {
     "data": {
      "text/html": [
       "<div>\n",
       "<style scoped>\n",
       "    .dataframe tbody tr th:only-of-type {\n",
       "        vertical-align: middle;\n",
       "    }\n",
       "\n",
       "    .dataframe tbody tr th {\n",
       "        vertical-align: top;\n",
       "    }\n",
       "\n",
       "    .dataframe thead th {\n",
       "        text-align: right;\n",
       "    }\n",
       "</style>\n",
       "<table border=\"1\" class=\"dataframe\">\n",
       "  <thead>\n",
       "    <tr style=\"text-align: right;\">\n",
       "      <th></th>\n",
       "      <th>X_0</th>\n",
       "      <th>X_1</th>\n",
       "      <th>X_2</th>\n",
       "      <th>X_3</th>\n",
       "      <th>X_4</th>\n",
       "    </tr>\n",
       "  </thead>\n",
       "  <tbody>\n",
       "    <tr>\n",
       "      <th>A*</th>\n",
       "      <td>0.133321</td>\n",
       "      <td>0.091730</td>\n",
       "      <td>0.102733</td>\n",
       "      <td>0.080640</td>\n",
       "      <td>0.086459</td>\n",
       "    </tr>\n",
       "    <tr>\n",
       "      <th>A-</th>\n",
       "      <td>0.112370</td>\n",
       "      <td>0.064211</td>\n",
       "      <td>0.061640</td>\n",
       "      <td>0.032256</td>\n",
       "      <td>0.034583</td>\n",
       "    </tr>\n",
       "  </tbody>\n",
       "</table>\n",
       "</div>"
      ],
      "text/plain": [
       "         X_0       X_1       X_2       X_3       X_4\n",
       "A*  0.133321  0.091730  0.102733  0.080640  0.086459\n",
       "A-  0.112370  0.064211  0.061640  0.032256  0.034583"
      ]
     },
     "execution_count": 8,
     "metadata": {},
     "output_type": "execute_result"
    }
   ],
   "source": [
    "a_pos = np.zeros(n)\n",
    "a_neg = np.zeros(n)\n",
    "for j in range(n):\n",
    "    column = raw_data[:,j]\n",
    "    max_val = np.max(column)\n",
    "    min_val = np.min(column)\n",
    "\n",
    "    # See if we want to maximize benefit or minimize cost (for PIS)\n",
    "    if criteria_types[j] == 'max':\n",
    "        a_pos[j] = max_val\n",
    "        a_neg[j] = min_val\n",
    "    else:\n",
    "        a_pos[j] = min_val\n",
    "        a_neg[j] = max_val\n",
    "\n",
    "pd.DataFrame(data=[a_pos, a_neg], index=[\"A*\", \"A-\"], columns=columns)"
   ]
  },
  {
   "cell_type": "markdown",
   "metadata": {
    "collapsed": false
   },
   "source": [
    "## Step 4 and 5 - Calculating Separation Measures and Similarities to PIS\n",
    "\n",
    "The separation or distance between the alternatives can be measured by the $n$-dimensional Euclidean distance. The separation from the PIS $A^*$ and NIS $A^-$ are $S^*$ and $S^-$ respectively.\n",
    "\n",
    "$$\n",
    "\\begin{align}\n",
    "S_i^* &= \\sqrt{\\sum_{j = 1}^n \\left(v_{ij} - v^*_j\\right)^2} \\\\\n",
    "S_i^- &= \\sqrt{\\sum_{j = 1}^n \\left(v_{ij} - v^-_j\\right)^2} \\\\\n",
    "\\end{align}\n",
    "$$\n",
    "\n",
    "where $i = 1, 2, \\ldots, m$ and $j = 1, 2, \\ldots, n$.\n",
    "\n",
    "We also calculate\n",
    "\n",
    "$$\n",
    "C^*_i = \\frac{S_i^-}{S_i^* + S_i^-},\\text{ where }i = 1, 2, \\ldots, m\n",
    "$$"
   ]
  },
  {
   "cell_type": "code",
   "execution_count": 9,
   "metadata": {
    "ExecuteTime": {
     "end_time": "2023-10-07T10:06:27.201239Z",
     "start_time": "2023-10-07T10:06:27.197840Z"
    },
    "collapsed": false
   },
   "outputs": [
    {
     "data": {
      "text/html": [
       "<div>\n",
       "<style scoped>\n",
       "    .dataframe tbody tr th:only-of-type {\n",
       "        vertical-align: middle;\n",
       "    }\n",
       "\n",
       "    .dataframe tbody tr th {\n",
       "        vertical-align: top;\n",
       "    }\n",
       "\n",
       "    .dataframe thead th {\n",
       "        text-align: right;\n",
       "    }\n",
       "</style>\n",
       "<table border=\"1\" class=\"dataframe\">\n",
       "  <thead>\n",
       "    <tr style=\"text-align: right;\">\n",
       "      <th></th>\n",
       "      <th>S*</th>\n",
       "      <th>S-</th>\n",
       "      <th>C*</th>\n",
       "    </tr>\n",
       "  </thead>\n",
       "  <tbody>\n",
       "    <tr>\n",
       "      <th>Alfred</th>\n",
       "      <td>0.061737</td>\n",
       "      <td>0.044104</td>\n",
       "      <td>0.416704</td>\n",
       "    </tr>\n",
       "    <tr>\n",
       "      <th>Beverly</th>\n",
       "      <td>0.049341</td>\n",
       "      <td>0.060770</td>\n",
       "      <td>0.551900</td>\n",
       "    </tr>\n",
       "    <tr>\n",
       "      <th>Calvin</th>\n",
       "      <td>0.042449</td>\n",
       "      <td>0.049755</td>\n",
       "      <td>0.539620</td>\n",
       "    </tr>\n",
       "    <tr>\n",
       "      <th>Diane</th>\n",
       "      <td>0.048980</td>\n",
       "      <td>0.057482</td>\n",
       "      <td>0.539926</td>\n",
       "    </tr>\n",
       "    <tr>\n",
       "      <th>Edward</th>\n",
       "      <td>0.065531</td>\n",
       "      <td>0.049260</td>\n",
       "      <td>0.429128</td>\n",
       "    </tr>\n",
       "    <tr>\n",
       "      <th>Fran</th>\n",
       "      <td>0.046297</td>\n",
       "      <td>0.060907</td>\n",
       "      <td>0.568142</td>\n",
       "    </tr>\n",
       "  </tbody>\n",
       "</table>\n",
       "</div>"
      ],
      "text/plain": [
       "               S*        S-        C*\n",
       "Alfred   0.061737  0.044104  0.416704\n",
       "Beverly  0.049341  0.060770  0.551900\n",
       "Calvin   0.042449  0.049755  0.539620\n",
       "Diane    0.048980  0.057482  0.539926\n",
       "Edward   0.065531  0.049260  0.429128\n",
       "Fran     0.046297  0.060907  0.568142"
      ]
     },
     "execution_count": 9,
     "metadata": {},
     "output_type": "execute_result"
    }
   ],
   "source": [
    "sp = np.zeros(m)\n",
    "sn = np.zeros(m)\n",
    "cs = np.zeros(m)\n",
    "\n",
    "for i in range(m):\n",
    "    diff_pos = raw_data[i] - a_pos\n",
    "    diff_neg = raw_data[i] - a_neg\n",
    "    sp[i] = np.sqrt(diff_pos @ diff_pos)\n",
    "    sn[i] = np.sqrt(diff_neg @ diff_neg)\n",
    "    cs[i] = sn[i] / (sp[i] + sn[i])\n",
    "\n",
    "pd.DataFrame(data=zip(sp, sn, cs), index=candidates, columns=[\"S*\", \"S-\", \"C*\"])"
   ]
  },
  {
   "cell_type": "markdown",
   "metadata": {
    "collapsed": false
   },
   "source": [
    "## Step 6 - Ranking the candidates/alternatives\n",
    "\n",
    "We choose the candidate with the maximum $C^*$ or rank all the alternatives in descending order according to their $C^*$ values. This process can also be done for the $S^*$ and $S^-$ values."
   ]
  },
  {
   "cell_type": "code",
   "execution_count": 10,
   "metadata": {
    "ExecuteTime": {
     "end_time": "2023-10-07T10:07:37.214886Z",
     "start_time": "2023-10-07T10:07:37.206233Z"
    },
    "collapsed": false
   },
   "outputs": [],
   "source": [
    "def rank_according_to(data):\n",
    "    ranks = rankdata(data).astype(int)\n",
    "    ranks -= 1\n",
    "    return candidates[ranks][::-1]"
   ]
  },
  {
   "cell_type": "code",
   "execution_count": 9,
   "metadata": {
    "ExecuteTime": {
     "end_time": "2023-10-07T10:07:38.101130Z",
     "start_time": "2023-10-07T10:07:38.097170Z"
    },
    "collapsed": false
   },
   "outputs": [
    {
     "data": {
      "text/html": [
       "<div>\n",
       "<style scoped>\n",
       "    .dataframe tbody tr th:only-of-type {\n",
       "        vertical-align: middle;\n",
       "    }\n",
       "\n",
       "    .dataframe tbody tr th {\n",
       "        vertical-align: top;\n",
       "    }\n",
       "\n",
       "    .dataframe thead th {\n",
       "        text-align: right;\n",
       "    }\n",
       "</style>\n",
       "<table border=\"1\" class=\"dataframe\">\n",
       "  <thead>\n",
       "    <tr style=\"text-align: right;\">\n",
       "      <th></th>\n",
       "      <th>C*</th>\n",
       "      <th>S*</th>\n",
       "      <th>S-</th>\n",
       "    </tr>\n",
       "  </thead>\n",
       "  <tbody>\n",
       "    <tr>\n",
       "      <th>1</th>\n",
       "      <td>Fran</td>\n",
       "      <td>Beverly</td>\n",
       "      <td>Fran</td>\n",
       "    </tr>\n",
       "    <tr>\n",
       "      <th>2</th>\n",
       "      <td>Beverly</td>\n",
       "      <td>Fran</td>\n",
       "      <td>Beverly</td>\n",
       "    </tr>\n",
       "    <tr>\n",
       "      <th>3</th>\n",
       "      <td>Diane</td>\n",
       "      <td>Calvin</td>\n",
       "      <td>Diane</td>\n",
       "    </tr>\n",
       "    <tr>\n",
       "      <th>4</th>\n",
       "      <td>Calvin</td>\n",
       "      <td>Alfred</td>\n",
       "      <td>Calvin</td>\n",
       "    </tr>\n",
       "    <tr>\n",
       "      <th>5</th>\n",
       "      <td>Edward</td>\n",
       "      <td>Diane</td>\n",
       "      <td>Edward</td>\n",
       "    </tr>\n",
       "    <tr>\n",
       "      <th>6</th>\n",
       "      <td>Alfred</td>\n",
       "      <td>Edward</td>\n",
       "      <td>Alfred</td>\n",
       "    </tr>\n",
       "  </tbody>\n",
       "</table>\n",
       "</div>"
      ],
      "text/plain": [
       "        C*       S*       S-\n",
       "1     Fran  Beverly     Fran\n",
       "2  Beverly     Fran  Beverly\n",
       "3    Diane   Calvin    Diane\n",
       "4   Calvin   Alfred   Calvin\n",
       "5   Edward    Diane   Edward\n",
       "6   Alfred   Edward   Alfred"
      ]
     },
     "execution_count": 9,
     "metadata": {},
     "output_type": "execute_result"
    }
   ],
   "source": [
    "cs_order = rank_according_to(cs)\n",
    "sp_order = rank_according_to(sp)\n",
    "sn_order = rank_according_to(sn)\n",
    "\n",
    "pd.DataFrame(data=zip(cs_order, sp_order, sn_order), index=range(1, m + 1), columns=[\"C*\", \"S*\", \"S-\"])"
   ]
  },
  {
   "cell_type": "code",
   "execution_count": 10,
   "metadata": {
    "ExecuteTime": {
     "end_time": "2023-10-07T10:08:11.148407Z",
     "start_time": "2023-10-07T10:08:11.137909Z"
    },
    "collapsed": false
   },
   "outputs": [
    {
     "name": "stdout",
     "output_type": "stream",
     "text": [
      "The best alternative according to C* is Fran\n",
      "The preferences in descending order are Fran, Beverly, Diane, Calvin, Edward, Alfred.\n"
     ]
    }
   ],
   "source": [
    "print(\"The best alternative according to C* is \" + cs_order[0])\n",
    "print(\"The preferences in descending order are \" + \", \".join(cs_order) + \".\")"
   ]
  },
  {
   "cell_type": "markdown",
   "metadata": {
    "collapsed": false
   },
   "source": []
  },
  {
   "cell_type": "code",
   "execution_count": null,
   "metadata": {},
   "outputs": [],
   "source": [
    "!pip install feloopy"
   ]
  },
  {
   "cell_type": "code",
   "execution_count": null,
   "metadata": {},
   "outputs": [],
   "source": [
    "from feloopy import *\n",
    "\n",
    "m = madm('topsis','topsis_model', 'pydecision')\n",
    "\n",
    "m.add_dm([\n",
    "        [6, 8, 4, 7],   \n",
    "        [9, 3, 4, 6],   \n",
    "        [4, 9, 7, 3],  \n",
    "        [8, 2, 5, 8],  \n",
    "        [4, 9, 2, 3],  \n",
    "        [7, 5, 9, 9],   \n",
    "        [9, 6, 3, 1],  \n",
    "        [3, 5, 7, 6],   \n",
    "        [5, 3, 8, 5],   \n",
    "        [4, 6, 3, 8],   \n",
    "        ])\n",
    "\n",
    "m.add_wv([0.25, 0.25, 0.25, 0.25])\n",
    "\n",
    "m.sol(['max', 'max', 'max', 'max'],show_graph=False, show_log=False)\n",
    "\n",
    "m.report(show_tensors=False)"
   ]
  },
  {
   "cell_type": "code",
   "execution_count": null,
   "metadata": {},
   "outputs": [],
   "source": [
    "!pip install pyDecision"
   ]
  },
  {
   "cell_type": "code",
   "execution_count": 13,
   "metadata": {
    "collapsed": false
   },
   "outputs": [],
   "source": [
    "from pyDecision import algorithm"
   ]
  },
  {
   "cell_type": "code",
   "execution_count": 14,
   "metadata": {
    "collapsed": false
   },
   "outputs": [
    {
     "name": "stdout",
     "output_type": "stream",
     "text": [
      "a1: 0.42\n",
      "a2: 0.55\n",
      "a3: 0.54\n",
      "a4: 0.54\n",
      "a5: 0.43\n",
      "a6: 0.57\n"
     ]
    },
    {
     "data": {
      "image/png": "[encoded data removed]",
      "text/plain": [
       "<Figure size 640x480 with 1 Axes>"
      ]
     },
     "metadata": {},
     "output_type": "display_data"
    }
   ],
   "source": [
    "# Call TOPSIS\n",
    "relative_closeness = algorithm.topsis_method(raw_data, weights, criteria_types, graph = True, verbose = True)"
   ]
  },
  {
   "cell_type": "code",
   "execution_count": null,
   "metadata": {},
   "outputs": [],
   "source": []
  }
 ],
 "metadata": {
  "kernelspec": {
   "display_name": "Python 3",
   "language": "python",
   "name": "python3"
  },
  "language_info": {
   "codemirror_mode": {
    "name": "ipython",
    "version": 3
   },
   "file_extension": ".py",
   "mimetype": "text/x-python",
   "name": "python",
   "nbconvert_exporter": "python",
   "pygments_lexer": "ipython3",
   "version": "3.10.9"
  }
 },
 "nbformat": 4,
 "nbformat_minor": 0
}
